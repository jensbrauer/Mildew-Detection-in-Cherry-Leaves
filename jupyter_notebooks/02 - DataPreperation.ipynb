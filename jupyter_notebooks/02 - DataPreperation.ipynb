{
  "cells": [
    {
      "attachments": {},
      "cell_type": "markdown",
      "metadata": {
        "id": "0aStgWSO0E0E"
      },
      "source": [
        "# **02 - DataPreperation**"
      ]
    },
    {
      "attachments": {},
      "cell_type": "markdown",
      "metadata": {
        "id": "1eLEkw5O0ECa"
      },
      "source": [
        "## Objectives\n",
        "\n",
        "* Clean data - Remove non image files from dataset.\n",
        "* Split data - Split dataset into 'test', 'train' and 'validation' sets.\n",
        "* Check data for imbalance - Check all data subsets for imbalance between labels to determine if their is cause for under-sampling or over-sampling.\n",
        "* Check image sizes - Check images sizes to determine if their is caus for action to resize for uniform dataset.\n",
        "\n",
        "## Inputs\n",
        "\n",
        "* Raw dataset - The dataset provided by the client, collected and stored in \"directory /inputs/cherry_leaves_dataset/cherry-leaves\", outputed from notebook \"01 - DataCollection\"\n",
        "\n",
        "## Outputs\n",
        "\n",
        "* New folder structure for inputs directory\n",
        "* Plot showing data balance\n",
        "* Plot showing image size variation\n",
        "\n",
        "## Additional Comments\n",
        "\n",
        "* No additional comments. \n",
        "\n"
      ]
    },
    {
      "attachments": {},
      "cell_type": "markdown",
      "metadata": {
        "id": "9uWZXH9LwoQg"
      },
      "source": [
        "---"
      ]
    },
    {
      "attachments": {},
      "cell_type": "markdown",
      "metadata": {
        "id": "cqP-UeN-z3i2"
      },
      "source": [
        "## Change working directory"
      ]
    },
    {
      "attachments": {},
      "cell_type": "markdown",
      "metadata": {
        "id": "aOGIGS-uz3i2"
      },
      "source": [
        "Change the working directory from the current folder to /workspace/Mildew-Detection-in-Cherry-Leaves\n",
        "\n",
        "The output from the below cell should be '/workspace/Mildew-Detection-in-Cherry-Leaves'"
      ]
    },
    {
      "cell_type": "code",
      "execution_count": 1,
      "metadata": {
        "id": "wZfF_j-Bz3i4",
        "outputId": "66943449-1436-4c3d-85c7-b85f9f78349b"
      },
      "outputs": [
        {
          "data": {
            "text/plain": [
              "'/workspace/Mildew-Detection-in-Cherry-Leaves'"
            ]
          },
          "execution_count": 1,
          "metadata": {},
          "output_type": "execute_result"
        }
      ],
      "source": [
        "import os\n",
        "os.chdir(os.path.dirname(os.getcwd()))\n",
        "current_dir = os.getcwd()\n",
        "current_dir"
      ]
    },
    {
      "attachments": {},
      "cell_type": "markdown",
      "metadata": {},
      "source": [
        "## Set input directory"
      ]
    },
    {
      "cell_type": "code",
      "execution_count": 2,
      "metadata": {},
      "outputs": [],
      "source": [
        "data_dir = '/workspace/Mildew-Detection-in-Cherry-Leaves/inputs/cherry_leaves_dataset/cherry-leaves'"
      ]
    },
    {
      "attachments": {},
      "cell_type": "markdown",
      "metadata": {},
      "source": [
        "## Set output directory"
      ]
    },
    {
      "attachments": {},
      "cell_type": "markdown",
      "metadata": {},
      "source": [
        "* Declare the name of your output folder and store it to the variabel \"output_dir\""
      ]
    },
    {
      "cell_type": "code",
      "execution_count": 3,
      "metadata": {},
      "outputs": [],
      "source": [
        "output_dir = 'current_output'"
      ]
    },
    {
      "attachments": {},
      "cell_type": "markdown",
      "metadata": {},
      "source": [
        "* Set the output directory to your chosen output folder.\n",
        "* If it does not already exist, it will be generated automatically"
      ]
    },
    {
      "cell_type": "code",
      "execution_count": 4,
      "metadata": {},
      "outputs": [
        {
          "name": "stdout",
          "output_type": "stream",
          "text": [
            "Current output folder is current_output in the \"outputs\" directory.\n"
          ]
        }
      ],
      "source": [
        "if 'outputs' not in os.listdir(current_dir):\n",
        "    os.makedirs(name='outputs')\n",
        "\n",
        "def create_output_dir(output_dir):\n",
        "    try:\n",
        "        os.makedirs(name=f'outputs/{output_dir}')\n",
        "        print(f'Current output folder is {output_dir} in the \"outputs\" directory.')\n",
        "        return f'outputs/{output_dir}'\n",
        "    except:\n",
        "        print(f'Current output folder is {output_dir} in the \"outputs\" directory. Note that this is an already existing folder.')\n",
        "        return f'outputs/{output_dir}'\n",
        "version_output = create_output_dir(output_dir)\n"
      ]
    },
    {
      "attachments": {},
      "cell_type": "markdown",
      "metadata": {
        "id": "ZY3l0-AxO93d"
      },
      "source": [
        "---"
      ]
    },
    {
      "attachments": {},
      "cell_type": "markdown",
      "metadata": {
        "id": "uFQo3ycuO-v6"
      },
      "source": [
        "# Clean Data"
      ]
    },
    {
      "attachments": {},
      "cell_type": "markdown",
      "metadata": {},
      "source": [
        "## Filtering out non image files"
      ]
    },
    {
      "cell_type": "code",
      "execution_count": 5,
      "metadata": {},
      "outputs": [
        {
          "name": "stdout",
          "output_type": "stream",
          "text": [
            "/workspace/Mildew-Detection-in-Cherry-Leaves/inputs/cherry_leaves_dataset/cherry-leaves/healthy contained 0 non image files before removal\n",
            "/workspace/Mildew-Detection-in-Cherry-Leaves/inputs/cherry_leaves_dataset/cherry-leaves/powdery_mildew contained 0 non image files before removal\n"
          ]
        }
      ],
      "source": [
        "# Set the directories where image files are stored and the file extensions for image files\n",
        "healthy_leaves=f'{data_dir}/healthy'\n",
        "powdery_mildew=f'{data_dir}/powdery_mildew'\n",
        "file_extension = ('.png', '.jpg', '.jpeg')\n",
        "\n",
        "#Go through all the images in the folders, and remove all files that do not match the file extensions chosen\n",
        "def drop_non_imgs(folder):\n",
        "    files = os.listdir(folder)\n",
        "    non_img_counter = 0\n",
        "    for file in files:\n",
        "        if not file.lower().endswith(file_extension):\n",
        "            file_path = folder + '/' + file\n",
        "            os.remove(file_path)\n",
        "            non_img_counter =+ 1\n",
        "        else:\n",
        "            pass\n",
        "    print(f\"{folder} contained {non_img_counter} non image files before removal\")\n",
        "\n",
        "drop_non_imgs(healthy_leaves)\n",
        "drop_non_imgs(powdery_mildew)"
      ]
    },
    {
      "attachments": {},
      "cell_type": "markdown",
      "metadata": {},
      "source": [
        "## Split dataset into train-, validation- and test-set"
      ]
    },
    {
      "attachments": {},
      "cell_type": "markdown",
      "metadata": {},
      "source": [
        "* Set the ratio for train-, validation- and test-sets"
      ]
    },
    {
      "cell_type": "code",
      "execution_count": 6,
      "metadata": {},
      "outputs": [
        {
          "name": "stdout",
          "output_type": "stream",
          "text": [
            "Data set ratio is set.\n"
          ]
        }
      ],
      "source": [
        "#Preset to ratios proposed in Malaria Detector project published in Code Institutes learning material.\n",
        "train_set_ratio = 0.7\n",
        "validation_set_ratio = 0.1\n",
        "test_set_ratio = 0.2\n",
        "\n",
        "ratio_sum = round(train_set_ratio + validation_set_ratio + test_set_ratio, 2)\n",
        "if not ratio_sum == 1:\n",
        "    print(f'WARNING: The sum of the ratios must be 1. It is currently {ratio_sum} and need to be corrected.')\n",
        "else:\n",
        "    print('Data set ratio is set.')\n"
      ]
    },
    {
      "attachments": {},
      "cell_type": "markdown",
      "metadata": {},
      "source": [
        "* Create the new train, validation and test folders within the dataset directory"
      ]
    },
    {
      "cell_type": "code",
      "execution_count": 7,
      "metadata": {},
      "outputs": [],
      "source": [
        "data_labels = os.listdir(data_dir)\n",
        "folder_names = ['train', 'validation', 'test']\n",
        "\n",
        "for foldername in folder_names:\n",
        "    for data_label in data_labels:\n",
        "        os.makedirs(name=data_dir + '/' + foldername + '/' + data_label)"
      ]
    },
    {
      "attachments": {},
      "cell_type": "markdown",
      "metadata": {},
      "source": [
        "* Split and move the data to the new folders and delete the previous folders"
      ]
    },
    {
      "cell_type": "code",
      "execution_count": 8,
      "metadata": {},
      "outputs": [],
      "source": [
        "import shutil\n",
        "import random\n",
        "\n",
        "for data_label in data_labels:\n",
        "    data = os.listdir(data_dir + '/' + data_label)\n",
        "    random.shuffle(data)\n",
        "\n",
        "    train_data_amount = round(len(data) * train_set_ratio)\n",
        "    validation_data_amount = round(len(data) * validation_set_ratio)\n",
        "    \n",
        "    for img in data:\n",
        "        if len(os.listdir(data_dir + '/train/' + data_label)) <= train_data_amount:\n",
        "            shutil.move(data_dir + '/' + data_label + '/' + img,\n",
        "                        data_dir + '/train/' + data_label + '/' + img)\n",
        "        elif len(os.listdir(data_dir + '/validation/' + data_label)) <= validation_data_amount:\n",
        "            shutil.move(data_dir + '/' + data_label + '/' + img,\n",
        "                        data_dir + '/validation/' + data_label + '/' + img)           \n",
        "        else:\n",
        "            shutil.move(data_dir + '/' + data_label + '/' + img,\n",
        "                        data_dir + '/test/' + data_label + '/' + img)\n",
        "\n",
        "    os.rmdir(data_dir + '/' + data_label)"
      ]
    },
    {
      "attachments": {},
      "cell_type": "markdown",
      "metadata": {},
      "source": [
        "## Check for Data Imbalance"
      ]
    },
    {
      "cell_type": "code",
      "execution_count": 9,
      "metadata": {},
      "outputs": [
        {
          "data": {
            "image/png": "[encoded data removed]",
            "text/plain": [
              "<Figure size 640x480 with 1 Axes>"
            ]
          },
          "metadata": {},
          "output_type": "display_data"
        }
      ],
      "source": [
        "import matplotlib\n",
        "import matplotlib.pyplot as plt\n",
        "import numpy as np\n",
        "\n",
        "\n",
        "train_healthy = len(os.listdir(data_dir + '/train/healthy'))\n",
        "train_powdery_mildew = len(os.listdir(data_dir + '/train/powdery_mildew'))\n",
        "val_healthy = len(os.listdir(data_dir + '/validation/healthy'))\n",
        "val_powdery_mildew = len(os.listdir(data_dir + '/validation/powdery_mildew'))\n",
        "test_healthy = len(os.listdir(data_dir + '/test/healthy'))\n",
        "test_powdery_mildew = len(os.listdir(data_dir + '/test/powdery_mildew'))\n",
        "\n",
        "category_labels = ['Train', \"Validation\", \"Test\"]\n",
        "healthy = [train_healthy, val_healthy, test_healthy]\n",
        "powdery_mildew = [train_powdery_mildew, val_powdery_mildew, test_powdery_mildew]\n",
        "\n",
        "\n",
        "x = np.arange(len(category_labels))  # the label locations\n",
        "width = 0.35  # the width of the bars\n",
        "\n",
        "fig, ax = plt.subplots()\n",
        "rects1 = ax.bar(x - width/2, healthy, width, label='Healthy')\n",
        "rects2 = ax.bar(x + width/2, powdery_mildew, width, label='Powdery_Mildew')\n",
        "\n",
        "# Add some text for labels, title and custom x-axis tick labels, etc.\n",
        "ax.set_ylabel('Images [n]')\n",
        "ax.set_title('N images for label by data subset')\n",
        "ax.set_xticks(x)\n",
        "ax.set_xticklabels(category_labels)\n",
        "ax.legend()\n",
        "\n",
        "\n",
        "def autolabel(rects):\n",
        "    \"\"\"Attach a text label above each bar in *rects*, displaying its height.\"\"\"\n",
        "    for rect in rects:\n",
        "        height = rect.get_height()\n",
        "        ax.annotate('{}'.format(height),\n",
        "                    xy=(rect.get_x() + rect.get_width() / 2, height),\n",
        "                    xytext=(0, 3),  # 3 points vertical offset\n",
        "                    textcoords=\"offset points\",\n",
        "                    ha='center', va='bottom')\n",
        "\n",
        "\n",
        "autolabel(rects1)\n",
        "autolabel(rects2)\n",
        "\n",
        "fig.tight_layout()\n",
        "\n",
        "plt.savefig(fname=version_output+'/dataset_balance')\n",
        "plt.show()"
      ]
    },
    {
      "attachments": {},
      "cell_type": "markdown",
      "metadata": {},
      "source": [
        "## Check image sizes"
      ]
    },
    {
      "cell_type": "code",
      "execution_count": 10,
      "metadata": {},
      "outputs": [],
      "source": [
        "import seaborn as sns\n",
        "sns.set_style(\"darkgrid\")\n",
        "\n",
        "from matplotlib.image import imread"
      ]
    },
    {
      "cell_type": "code",
      "execution_count": 11,
      "metadata": {},
      "outputs": [
        {
          "data": {
            "image/png": "[encoded data removed]",
            "text/plain": [
              "<Figure size 640x480 with 1 Axes>"
            ]
          },
          "metadata": {},
          "output_type": "display_data"
        },
        {
          "name": "stdout",
          "output_type": "stream",
          "text": [
            "Width average: 256 \n",
            "Height average: 256\n"
          ]
        }
      ],
      "source": [
        "img_width, img_height = [], []\n",
        "subset_dirs = ['/train/', '/validation/', '/test/']\n",
        "data_labels = ['healthy', 'powdery_mildew']\n",
        "for folder in subset_dirs:\n",
        "  for label in data_labels:\n",
        "    for img_file in os.listdir(data_dir + folder + label):\n",
        "      img = imread(data_dir + folder + label + '/' + img_file, 0)\n",
        "      img_shape = img.shape\n",
        "      img_width.append(img_shape[1])\n",
        "      img_height.append(img_shape[0])\n",
        "\n",
        "\n",
        "fig, axes = plt.subplots()\n",
        "sns.scatterplot(x=img_width, y=img_height, alpha=0.2)\n",
        "axes.set_title('Scatter for all images by Height / Width')\n",
        "axes.set_xlabel(\"Width [px]\")\n",
        "axes.set_ylabel(\"Height [px]\")\n",
        "img_width_mean = int(np.array(img_width).mean())\n",
        "img_height_mean = int(np.array(img_height).mean())\n",
        "axes.axvline(x=img_width_mean,color='r', linestyle='--')\n",
        "axes.axhline(y=img_height_mean,color='r', linestyle='--')\n",
        "plt.savefig(fname=version_output+'/scatterplot_img_sizes')\n",
        "plt.show()\n",
        "print(f\"Width average: {img_width_mean} \\nHeight average: {img_height_mean}\")"
      ]
    },
    {
      "attachments": {},
      "cell_type": "markdown",
      "metadata": {},
      "source": [
        "---"
      ]
    },
    {
      "attachments": {},
      "cell_type": "markdown",
      "metadata": {
        "id": "ltNetd085qHf"
      },
      "source": [
        "# Conclusions and Next Steps"
      ]
    },
    {
      "attachments": {},
      "cell_type": "markdown",
      "metadata": {},
      "source": [
        "* Data is balanced and no cause for action.\n",
        "* Images are of uniform size 256px X 256 px and no resizing is required.\n",
        "  * Image size will be managed in notebook \"04 - Modelling\", in order to control ratio of model performance/model size. "
      ]
    }
  ],
  "metadata": {
    "accelerator": "GPU",
    "colab": {
      "name": "Data Practitioner Jupyter Notebook.ipynb",
      "provenance": [],
      "toc_visible": true
    },
    "interpreter": {
      "hash": "8b8334dab9339717f727a1deaf837b322d7a41c20d15cc86be99a8e69ceec8ce"
    },
    "kernelspec": {
      "display_name": "Python 3.8.12 64-bit ('3.8.12': pyenv)",
      "name": "python3"
    },
    "language_info": {
      "codemirror_mode": {
        "name": "ipython",
        "version": 3
      },
      "file_extension": ".py",
      "mimetype": "text/x-python",
      "name": "python",
      "nbconvert_exporter": "python",
      "pygments_lexer": "ipython3",
      "version": "3.8.12"
    },
    "orig_nbformat": 2
  },
  "nbformat": 4,
  "nbformat_minor": 2
}
